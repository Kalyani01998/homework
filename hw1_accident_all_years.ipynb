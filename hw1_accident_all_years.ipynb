{
 "cells": [
  {
   "cell_type": "markdown",
   "id": "e13fea94-1d22-4f25-aea8-74be613301fe",
   "metadata": {},
   "source": [
    "## Part- 1"
   ]
  },
  {
   "cell_type": "markdown",
   "id": "2cd8b041-49df-4135-899a-1412ed529fb5",
   "metadata": {},
   "source": [
    "**§ Task-1 : Listen to the podcast / watch the video and write a 3-5 sentence reaction to the podcast. State in your own words what you learned, what expanding your knowledge of the topic and what you found interesting about the information you received.**\n",
    "\n",
    "\n",
    "* What I learned from the podcast is that Observable is an open source platform which is helping to empower more people to work with technology and     play around with data to show their work visually. \n",
    "\n",
    "* Data is growing very fast and hard to read, data visualization will help humans to read fast and effectively. \n",
    "\n",
    "* D3 and observable plots (open source libraries) are playing a key role to display data in a visual way.\n",
    "\n",
    "* One of the interesting parts is we can tell our own story with real data and create a dashboard which helps to make decisions faster to improve the   product quality.\n",
    "\n"
   ]
  },
  {
   "cell_type": "markdown",
   "id": "63502768-339d-4812-b038-aa23d0981aee",
   "metadata": {},
   "source": [
    "**§ Task-2: Go to observablehq.com and find ONE project. With the one project please enumerate the following:\n",
    "please give the title, URL and description of the project on Observable,\n",
    "describe the datasets used in the project (you can just provide 1 sentence summary of the dataset),\n",
    "provide a brief description of the visualizations used (1 sentence),\n",
    "describe why you found this dataset / project interesting (no more than 2 sentences).**\n",
    "\n",
    "\n",
    "# Project Title\n",
    "************\n",
    "\n",
    "# Netflix Data Visualizations\n",
    "\n",
    "#### URL\n",
    "\n",
    "##### https://observablehq.com/@dblount/netflix\n",
    "\n",
    "### Description\n",
    "\n",
    "This project is focused on applying visualization of data track depending on region, and how many different types of genre TV shows and movies are uploaded and viewed on the Netflix platform per year and monthly basis.\n",
    "\n",
    "### Datasets used in project\n",
    "\n",
    "The data set contains data collected from Netflix’s TV shows, movies, Titles, uploaded dates, movie description, Genre, cast information.\n",
    "\n",
    "### Visualizations\n",
    "\n",
    "For data visualization using D3.JS to capture uploads and views count in different regions to improve product quality in a faster way.\n",
    "\n",
    "### Project Interesting\n",
    "\n",
    "It has a large number of datasets consisting of movies and TV shows.\n",
    "It has different dimensions consisting of different genres of TV shows, movies from different regions. The long format strings include movie descriptions.\n"
   ]
  },
  {
   "cell_type": "markdown",
   "id": "5953e1b3-522f-4c40-b704-f1b887a505ef",
   "metadata": {},
   "source": [
    "## Part- 2"
   ]
  },
  {
   "cell_type": "markdown",
   "id": "2e2be182-057d-4ffa-bc11-4b1720d8d89a",
   "metadata": {},
   "source": [
    "**§ Task: (Data Extraction, Selection and Transformation)\n",
    "You will be downloading a large amount of data from FARS in preparation for analysis. For this part, you will create a Jupyter notebook, which will go to the FTP files of NHTSA.\n",
    "Your Python program / notebook must do the following:\n",
    "fetch to your local file system every 5th year of data starting with 1975 to 2020. That is you will automate downloading the .zip files at the static FTP site and store it locally for 1975, 1980, 1985, … 2015 and 2020.\n",
    "Once you have fetched the .zip files locally, you will then unzip them automatically to a folder corresponding to their year. Thus you will have 10 folders \"./1975\",\"./1980\", … which will contain the contents of their correspoding .zip file from the NHTSA.\n",
    "You will notice each of these folders contain many .csv files. You will create a folder at the same level as your notebook called accident_all_years and you will copy (not move), each of the yearly files (i.e. \"1975/accident.csv\") to the folder \"accident_all_years/1975_accident.csv\". The new folder will contain just the accident.csv files for all years downloaded.**"
   ]
  },
  {
   "cell_type": "code",
   "execution_count": 1,
   "id": "a92463aa-b3b9-43d6-b1ac-2892e06389cb",
   "metadata": {},
   "outputs": [],
   "source": [
    "import requests\n",
    "import zipfile\n",
    "import shutil\n",
    "import os\n",
    "import glob\n",
    "import pandas as pd"
   ]
  },
  {
   "cell_type": "code",
   "execution_count": 2,
   "id": "6815e5a8-dbb3-4451-ad7d-ef5286ba20b2",
   "metadata": {},
   "outputs": [],
   "source": [
    "BASEPATH=\"https://static.nhtsa.gov/nhtsa/downloads/FARS/\"\n",
    "\n",
    "if not os.path.exists(\"accident_all_years\"):\n",
    "    os.mkdir(\"accident_all_years\")"
   ]
  },
  {
   "cell_type": "code",
   "execution_count": 3,
   "id": "aa726754-a80c-4189-90f0-f5df241a22a9",
   "metadata": {},
   "outputs": [
    {
     "name": "stdout",
     "output_type": "stream",
     "text": [
      "https://static.nhtsa.gov/nhtsa/downloads/FARS/1975/National/FARS1975NationalCSV.zip\n",
      "1975/ACCIDENT.CSV\n",
      "https://static.nhtsa.gov/nhtsa/downloads/FARS/1980/National/FARS1980NationalCSV.zip\n",
      "1980/ACCIDENT.CSV\n",
      "https://static.nhtsa.gov/nhtsa/downloads/FARS/1985/National/FARS1985NationalCSV.zip\n",
      "1985/ACCIDENT.CSV\n",
      "https://static.nhtsa.gov/nhtsa/downloads/FARS/1990/National/FARS1990NationalCSV.zip\n",
      "1990/ACCIDENT.CSV\n",
      "https://static.nhtsa.gov/nhtsa/downloads/FARS/1995/National/FARS1995NationalCSV.zip\n",
      "1995/ACCIDENT.CSV\n",
      "https://static.nhtsa.gov/nhtsa/downloads/FARS/2000/National/FARS2000NationalCSV.zip\n",
      "2000/ACCIDENT.CSV\n",
      "https://static.nhtsa.gov/nhtsa/downloads/FARS/2005/National/FARS2005NationalCSV.zip\n",
      "2005/ACCIDENT.CSV\n",
      "https://static.nhtsa.gov/nhtsa/downloads/FARS/2010/National/FARS2010NationalCSV.zip\n",
      "2010/ACCIDENT.CSV\n",
      "https://static.nhtsa.gov/nhtsa/downloads/FARS/2015/National/FARS2015NationalCSV.zip\n",
      "https://static.nhtsa.gov/nhtsa/downloads/FARS/2020/National/FARS2020NationalCSV.zip\n",
      "2020/accident.CSV\n"
     ]
    }
   ],
   "source": [
    "for year in range(1975,2021,5):\n",
    "    path=BASEPATH + str(year) + \"/National/FARS\" + str(year) + \"NationalCSV.zip\"\n",
    "    print(path)\n",
    "    r = requests.get(path)\n",
    "\n",
    "    if r.status_code == 200: # HTTP OK\n",
    "        data = r.content # you can also use r.content if there is binary data (or utf-8 encoded strings)\n",
    "        \n",
    "    with open(str(year) + \".zip\", \"wb\") as fo:\n",
    "        fo.write(data)\n",
    "    \n",
    "    zipfile.ZipFile(str(year) + \".zip\").extractall(path=str(year))\n",
    "    \n",
    "    accident_file_path=str(year) + \"/accident.csv\"\n",
    "    if not os.path.exists(accident_file_path):\n",
    "        if os.path.exists(str(year) + \"/accident.CSV\"):\n",
    "            accident_file_path=str(year) + \"/accident.CSV\"\n",
    "            \n",
    "        else:\n",
    "            accident_file_path=accident_file_path.upper()\n",
    "        print(accident_file_path)\n",
    "        \n",
    "    shutil.copy(accident_file_path, \"accident_all_years/\" + str(year) + \"_accident.csv\")\n",
    "    \n",
    "\n",
    "    "
   ]
  },
  {
   "cell_type": "code",
   "execution_count": 4,
   "id": "c9fae3dc-4532-42f7-99f8-93b7fce545aa",
   "metadata": {},
   "outputs": [
    {
     "name": "stdout",
     "output_type": "stream",
     "text": [
      "['accident_all_years/1975_accident.csv', 'accident_all_years/1990_accident.csv', 'accident_all_years/2010_accident.csv', 'accident_all_years/1995_accident.csv', 'accident_all_years/2020_accident.csv', 'accident_all_years/2005_accident.csv', 'accident_all_years/2015_accident.csv', 'accident_all_years/1985_accident.csv', 'accident_all_years/2000_accident.csv', 'accident_all_years/1980_accident.csv']\n"
     ]
    }
   ],
   "source": [
    "accident_file_list = glob.glob(\"accident_all_years/*.csv\")\n",
    "print(accident_file_list)"
   ]
  },
  {
   "cell_type": "code",
   "execution_count": 5,
   "id": "b97ccef6-1ae7-4922-89f8-52abccc59906",
   "metadata": {},
   "outputs": [
    {
     "name": "stdout",
     "output_type": "stream",
     "text": [
      "accident_all_years/1975_accident.csv (39161, 45)\n",
      "accident_all_years/1990_accident.csv (39836, 48)\n",
      "accident_all_years/2010_accident.csv (30296, 47)\n",
      "accident_all_years/1995_accident.csv (37241, 49)\n",
      "accident_all_years/2020_accident.csv (35766, 81)\n",
      "accident_all_years/2005_accident.csv (39252, 53)\n",
      "accident_all_years/2015_accident.csv (32538, 89)\n",
      "accident_all_years/1985_accident.csv (39196, 47)\n",
      "accident_all_years/2000_accident.csv (37526, 51)\n",
      "accident_all_years/1980_accident.csv (45284, 45)\n"
     ]
    },
    {
     "data": {
      "text/html": [
       "<div>\n",
       "<style scoped>\n",
       "    .dataframe tbody tr th:only-of-type {\n",
       "        vertical-align: middle;\n",
       "    }\n",
       "\n",
       "    .dataframe tbody tr th {\n",
       "        vertical-align: top;\n",
       "    }\n",
       "\n",
       "    .dataframe thead th {\n",
       "        text-align: right;\n",
       "    }\n",
       "</style>\n",
       "<table border=\"1\" class=\"dataframe\">\n",
       "  <thead>\n",
       "    <tr style=\"text-align: right;\">\n",
       "      <th></th>\n",
       "      <th>STATE</th>\n",
       "      <th>COUNTY</th>\n",
       "      <th>MONTH</th>\n",
       "      <th>DAY</th>\n",
       "      <th>YEAR</th>\n",
       "      <th>HOUR</th>\n",
       "      <th>MINUTE</th>\n",
       "      <th>VE_FORMS</th>\n",
       "      <th>PERSONS</th>\n",
       "      <th>VEHICLES</th>\n",
       "      <th>...</th>\n",
       "      <th>HOSP_HRNAME</th>\n",
       "      <th>HOSP_MNNAME</th>\n",
       "      <th>latitude</th>\n",
       "      <th>longitud</th>\n",
       "      <th>WEATHER1NAME</th>\n",
       "      <th>WEATHER2NAME</th>\n",
       "      <th>CF1NAME</th>\n",
       "      <th>CF2NAME</th>\n",
       "      <th>CF3NAME</th>\n",
       "      <th>TWAY_FLO</th>\n",
       "    </tr>\n",
       "  </thead>\n",
       "  <tbody>\n",
       "    <tr>\n",
       "      <th>0</th>\n",
       "      <td>1</td>\n",
       "      <td>95</td>\n",
       "      <td>1</td>\n",
       "      <td>4</td>\n",
       "      <td>75</td>\n",
       "      <td>22</td>\n",
       "      <td>24</td>\n",
       "      <td>3</td>\n",
       "      <td>3</td>\n",
       "      <td>NaN</td>\n",
       "      <td>...</td>\n",
       "      <td>NaN</td>\n",
       "      <td>NaN</td>\n",
       "      <td>NaN</td>\n",
       "      <td>NaN</td>\n",
       "      <td>NaN</td>\n",
       "      <td>NaN</td>\n",
       "      <td>NaN</td>\n",
       "      <td>NaN</td>\n",
       "      <td>NaN</td>\n",
       "      <td>NaN</td>\n",
       "    </tr>\n",
       "    <tr>\n",
       "      <th>1</th>\n",
       "      <td>1</td>\n",
       "      <td>95</td>\n",
       "      <td>1</td>\n",
       "      <td>2</td>\n",
       "      <td>75</td>\n",
       "      <td>4</td>\n",
       "      <td>30</td>\n",
       "      <td>1</td>\n",
       "      <td>2</td>\n",
       "      <td>NaN</td>\n",
       "      <td>...</td>\n",
       "      <td>NaN</td>\n",
       "      <td>NaN</td>\n",
       "      <td>NaN</td>\n",
       "      <td>NaN</td>\n",
       "      <td>NaN</td>\n",
       "      <td>NaN</td>\n",
       "      <td>NaN</td>\n",
       "      <td>NaN</td>\n",
       "      <td>NaN</td>\n",
       "      <td>NaN</td>\n",
       "    </tr>\n",
       "    <tr>\n",
       "      <th>2</th>\n",
       "      <td>1</td>\n",
       "      <td>35</td>\n",
       "      <td>1</td>\n",
       "      <td>1</td>\n",
       "      <td>75</td>\n",
       "      <td>4</td>\n",
       "      <td>0</td>\n",
       "      <td>1</td>\n",
       "      <td>1</td>\n",
       "      <td>NaN</td>\n",
       "      <td>...</td>\n",
       "      <td>NaN</td>\n",
       "      <td>NaN</td>\n",
       "      <td>NaN</td>\n",
       "      <td>NaN</td>\n",
       "      <td>NaN</td>\n",
       "      <td>NaN</td>\n",
       "      <td>NaN</td>\n",
       "      <td>NaN</td>\n",
       "      <td>NaN</td>\n",
       "      <td>NaN</td>\n",
       "    </tr>\n",
       "    <tr>\n",
       "      <th>3</th>\n",
       "      <td>1</td>\n",
       "      <td>77</td>\n",
       "      <td>1</td>\n",
       "      <td>2</td>\n",
       "      <td>75</td>\n",
       "      <td>14</td>\n",
       "      <td>50</td>\n",
       "      <td>1</td>\n",
       "      <td>3</td>\n",
       "      <td>NaN</td>\n",
       "      <td>...</td>\n",
       "      <td>NaN</td>\n",
       "      <td>NaN</td>\n",
       "      <td>NaN</td>\n",
       "      <td>NaN</td>\n",
       "      <td>NaN</td>\n",
       "      <td>NaN</td>\n",
       "      <td>NaN</td>\n",
       "      <td>NaN</td>\n",
       "      <td>NaN</td>\n",
       "      <td>NaN</td>\n",
       "    </tr>\n",
       "    <tr>\n",
       "      <th>4</th>\n",
       "      <td>1</td>\n",
       "      <td>97</td>\n",
       "      <td>1</td>\n",
       "      <td>5</td>\n",
       "      <td>75</td>\n",
       "      <td>20</td>\n",
       "      <td>0</td>\n",
       "      <td>1</td>\n",
       "      <td>1</td>\n",
       "      <td>NaN</td>\n",
       "      <td>...</td>\n",
       "      <td>NaN</td>\n",
       "      <td>NaN</td>\n",
       "      <td>NaN</td>\n",
       "      <td>NaN</td>\n",
       "      <td>NaN</td>\n",
       "      <td>NaN</td>\n",
       "      <td>NaN</td>\n",
       "      <td>NaN</td>\n",
       "      <td>NaN</td>\n",
       "      <td>NaN</td>\n",
       "    </tr>\n",
       "  </tbody>\n",
       "</table>\n",
       "<p>5 rows × 113 columns</p>\n",
       "</div>"
      ],
      "text/plain": [
       "   STATE  COUNTY  MONTH  DAY  YEAR  HOUR  MINUTE  VE_FORMS  PERSONS  VEHICLES  \\\n",
       "0      1      95      1    4    75    22      24         3        3       NaN   \n",
       "1      1      95      1    2    75     4      30         1        2       NaN   \n",
       "2      1      35      1    1    75     4       0         1        1       NaN   \n",
       "3      1      77      1    2    75    14      50         1        3       NaN   \n",
       "4      1      97      1    5    75    20       0         1        1       NaN   \n",
       "\n",
       "   ...  HOSP_HRNAME  HOSP_MNNAME  latitude  longitud  WEATHER1NAME  \\\n",
       "0  ...          NaN          NaN       NaN       NaN           NaN   \n",
       "1  ...          NaN          NaN       NaN       NaN           NaN   \n",
       "2  ...          NaN          NaN       NaN       NaN           NaN   \n",
       "3  ...          NaN          NaN       NaN       NaN           NaN   \n",
       "4  ...          NaN          NaN       NaN       NaN           NaN   \n",
       "\n",
       "   WEATHER2NAME  CF1NAME  CF2NAME  CF3NAME  TWAY_FLO  \n",
       "0           NaN      NaN      NaN      NaN       NaN  \n",
       "1           NaN      NaN      NaN      NaN       NaN  \n",
       "2           NaN      NaN      NaN      NaN       NaN  \n",
       "3           NaN      NaN      NaN      NaN       NaN  \n",
       "4           NaN      NaN      NaN      NaN       NaN  \n",
       "\n",
       "[5 rows x 113 columns]"
      ]
     },
     "execution_count": 5,
     "metadata": {},
     "output_type": "execute_result"
    }
   ],
   "source": [
    "data_df=pd.DataFrame()\n",
    "for csv_path in accident_file_list:\n",
    "    year_df=pd.read_csv(csv_path, encoding=\"utf-8\", encoding_errors=\"replace\")\n",
    "    print(csv_path,year_df.shape)\n",
    "    data_df=pd.concat([data_df,year_df])\n",
    "\n",
    "data_df.head()\n"
   ]
  },
  {
   "cell_type": "code",
   "execution_count": null,
   "id": "c956d9ce-3df0-4658-8d5b-55dd379c2a67",
   "metadata": {},
   "outputs": [],
   "source": []
  },
  {
   "cell_type": "code",
   "execution_count": 6,
   "id": "59cc1104-e406-4d55-b76a-881910f08580",
   "metadata": {},
   "outputs": [
    {
     "name": "stdout",
     "output_type": "stream",
     "text": [
      "<class 'pandas.core.frame.DataFrame'>\n",
      "Int64Index: 376096 entries, 0 to 45283\n",
      "Data columns (total 113 columns):\n",
      " #    Column        Dtype  \n",
      "---   ------        -----  \n",
      " 0    STATE         int64  \n",
      " 1    COUNTY        int64  \n",
      " 2    MONTH         int64  \n",
      " 3    DAY           int64  \n",
      " 4    YEAR          int64  \n",
      " 5    HOUR          int64  \n",
      " 6    MINUTE        int64  \n",
      " 7    VE_FORMS      int64  \n",
      " 8    PERSONS       int64  \n",
      " 9    VEHICLES      float64\n",
      " 10   LAND_USE      float64\n",
      " 11   CL_TWAY       float64\n",
      " 12   ROAD_FNC      float64\n",
      " 13   TA_1_CL       float64\n",
      " 14   SP_JUR        int64  \n",
      " 15   HARM_EV       int64  \n",
      " 16   MAN_COLL      int64  \n",
      " 17   REL_JUNC      float64\n",
      " 18   REL_ROAD      int64  \n",
      " 19   ROAD_FLO      float64\n",
      " 20   NO_LANES      float64\n",
      " 21   SP_LIMIT      float64\n",
      " 22   ALIGNMNT      float64\n",
      " 23   PROFILE       float64\n",
      " 24   PAVE_TYP      float64\n",
      " 25   SUR_COND      float64\n",
      " 26   TRA_CONT      float64\n",
      " 27   LGT_COND      int64  \n",
      " 28   WEATHER       int64  \n",
      " 29   HIT_RUN       float64\n",
      " 30   C_M_ZONE      float64\n",
      " 31   NOT_HOUR      int64  \n",
      " 32   NOT_MIN       int64  \n",
      " 33   ARR_HOUR      int64  \n",
      " 34   ARR_MIN       int64  \n",
      " 35   SCH_BUS       float64\n",
      " 36   CF1           float64\n",
      " 37   CF2           float64\n",
      " 38   CF3           float64\n",
      " 39   FATALS        int64  \n",
      " 40   DAY_WEEK      int64  \n",
      " 41   DRUNK_DR      int64  \n",
      " 42   ST_CASE       int64  \n",
      " 43   CITY          int64  \n",
      " 44   RAIL          object \n",
      " 45   FED_AID       float64\n",
      " 46   ROUTE         float64\n",
      " 47   TRAF_FLO      float64\n",
      " 48   T_CONT_F      float64\n",
      " 49   HOSP_HR       float64\n",
      " 50   HOSP_MN       float64\n",
      " 51   MILEPT        float64\n",
      " 52   TWAY_ID       object \n",
      " 53   VE_TOTAL      float64\n",
      " 54   PEDS          float64\n",
      " 55   NHS           float64\n",
      " 56   TWAY_ID2      object \n",
      " 57   LATITUDE      float64\n",
      " 58   LONGITUD      float64\n",
      " 59   RELJCT1       float64\n",
      " 60   RELJCT2       float64\n",
      " 61   TYP_INT       float64\n",
      " 62   WRK_ZONE      float64\n",
      " 63   WEATHER1      float64\n",
      " 64   WEATHER2      float64\n",
      " 65   STATENAME     object \n",
      " 66   PVH_INVL      float64\n",
      " 67   PERMVIT       float64\n",
      " 68   PERNOTMVIT    float64\n",
      " 69   COUNTYNAME    object \n",
      " 70   CITYNAME      object \n",
      " 71   DAYNAME       float64\n",
      " 72   MONTHNAME     object \n",
      " 73   DAY_WEEKNAME  object \n",
      " 74   HOURNAME      object \n",
      " 75   MINUTENAME    object \n",
      " 76   NHSNAME       object \n",
      " 77   ROUTENAME     object \n",
      " 78   RUR_URB       float64\n",
      " 79   RUR_URBNAME   object \n",
      " 80   FUNC_SYS      float64\n",
      " 81   FUNC_SYSNAME  object \n",
      " 82   RD_OWNER      float64\n",
      " 83   RD_OWNERNAME  object \n",
      " 84   MILEPTNAME    object \n",
      " 85   LATITUDENAME  object \n",
      " 86   LONGITUDNAME  object \n",
      " 87   SP_JURNAME    object \n",
      " 88   HARM_EVNAME   object \n",
      " 89   MAN_COLLNAME  object \n",
      " 90   RELJCT1NAME   object \n",
      " 91   RELJCT2NAME   object \n",
      " 92   TYP_INTNAME   object \n",
      " 93   WRK_ZONENAME  object \n",
      " 94   REL_ROADNAME  object \n",
      " 95   LGT_CONDNAME  object \n",
      " 96   WEATHERNAME   object \n",
      " 97   SCH_BUSNAME   object \n",
      " 98   RAILNAME      object \n",
      " 99   NOT_HOURNAME  object \n",
      " 100  NOT_MINNAME   object \n",
      " 101  ARR_HOURNAME  object \n",
      " 102  ARR_MINNAME   object \n",
      " 103  HOSP_HRNAME   object \n",
      " 104  HOSP_MNNAME   object \n",
      " 105  latitude      float64\n",
      " 106  longitud      float64\n",
      " 107  WEATHER1NAME  object \n",
      " 108  WEATHER2NAME  object \n",
      " 109  CF1NAME       object \n",
      " 110  CF2NAME       object \n",
      " 111  CF3NAME       object \n",
      " 112  TWAY_FLO      float64\n",
      "dtypes: float64(48), int64(24), object(41)\n",
      "memory usage: 327.1+ MB\n"
     ]
    }
   ],
   "source": [
    "data_df.info(verbose=True)\n"
   ]
  },
  {
   "cell_type": "markdown",
   "id": "2d4b8962-ecdf-4e7e-9b4a-fa8114a31b62",
   "metadata": {},
   "source": [
    "## Part- 3"
   ]
  },
  {
   "cell_type": "markdown",
   "id": "dfc9c985-c99e-4fcd-bae1-cacbf477cbb0",
   "metadata": {},
   "source": [
    "#### Task-1"
   ]
  },
  {
   "cell_type": "code",
   "execution_count": 7,
   "id": "a5a61173-f413-4ca6-9371-2035222145c8",
   "metadata": {},
   "outputs": [
    {
     "name": "stdout",
     "output_type": "stream",
     "text": [
      "Total number of accidents from 1975-2020 -  376096\n"
     ]
    }
   ],
   "source": [
    "#What is the overall number fatal accidents for the entire dataset period from 1975-2020? (Note: the denomenator is the total number of accidents)\n",
    "#data_df.shape\n",
    "print(\"Total number of accidents from 1975-2020 - \", len(data_df))"
   ]
  },
  {
   "cell_type": "code",
   "execution_count": 8,
   "id": "aa90d6ea-5c6e-4d70-9ab4-2eb891711042",
   "metadata": {},
   "outputs": [
    {
     "name": "stdout",
     "output_type": "stream",
     "text": [
      "Total number of people died -  418619\n",
      "Total number of people involved -  955696\n"
     ]
    }
   ],
   "source": [
    "#How many people died over that period? How many total people were involved (fatal and non-fatal)?\n",
    "print(\"Total number of people died - \", data_df[\"FATALS\"].sum())\n",
    "print(\"Total number of people involved - \", data_df[\"PERSONS\"].sum())"
   ]
  },
  {
   "cell_type": "code",
   "execution_count": 9,
   "id": "d33ab070-616a-454f-8a3a-3abf5625f528",
   "metadata": {},
   "outputs": [
    {
     "name": "stdout",
     "output_type": "stream",
     "text": [
      "Total number of accidents occurred between 9pm and 4am -  134869\n"
     ]
    }
   ],
   "source": [
    "# What proportion of accidents occurred between 9pm and 4am (overnight)?\n",
    "print(\"Total number of accidents occurred between 9pm and 4am - \", len(data_df[(data_df[\"HOUR\"]>=21) | (data_df[\"HOUR\"]<=4)]))"
   ]
  },
  {
   "cell_type": "code",
   "execution_count": 10,
   "id": "0b8b8cf7-4888-4ff3-9099-114b31d913fe",
   "metadata": {},
   "outputs": [
    {
     "name": "stdout",
     "output_type": "stream",
     "text": [
      "proportion of accidents occurred when the weather was snowy -  650\n"
     ]
    }
   ],
   "source": [
    "# What proportion of accidents occurred when the weather was snowy?\n",
    "print(\"proportion of accidents occurred when the weather was snowy - \",len(data_df[(data_df[\"WEATHERNAME\"]==\"Snow\") | (data_df[\"WEATHERNAME\"]==\"Blowing Snow\")]))\n",
    "#data_df[\"WEATHERNAME\"].unique()"
   ]
  },
  {
   "cell_type": "code",
   "execution_count": 11,
   "id": "a476ad72-1fe6-4b18-bb4a-c291a0c25ba7",
   "metadata": {},
   "outputs": [
    {
     "data": {
      "text/plain": [
       "<AxesSubplot:xlabel='YEAR', ylabel='FATALS'>"
      ]
     },
     "execution_count": 11,
     "metadata": {},
     "output_type": "execute_result"
    },
    {
     "data": {
      "image/png": "[encoded data removed]",
      "text/plain": [
       "<Figure size 432x288 with 1 Axes>"
      ]
     },
     "metadata": {
      "needs_background": "light"
     },
     "output_type": "display_data"
    }
   ],
   "source": [
    "#Build a line graph that shows the total fatalities by year (using the dataset with just every 5 years of data).\n",
    "###NOTE: I have found 3 accident records under 99\n",
    "data_df.drop(data_df[data_df[\"YEAR\"]==99].index, inplace=True)\n",
    "data_df.loc[data_df[\"YEAR\"]==75,\"YEAR\"]=1975\n",
    "data_df.loc[data_df[\"YEAR\"]==80,\"YEAR\"]=1980\n",
    "data_df.loc[data_df[\"YEAR\"]==85,\"YEAR\"]=1985\n",
    "data_df.loc[data_df[\"YEAR\"]==90,\"YEAR\"]=1990\n",
    "data_df.loc[data_df[\"YEAR\"]==95,\"YEAR\"]=1995\n",
    "data_df.groupby(\"YEAR\")[\"FATALS\"].sum().plot(x=\"YEAR\", ylabel=\"FATALS\")\n",
    "#pd.plot(fatals_by_year)"
   ]
  },
  {
   "cell_type": "markdown",
   "id": "951824a5-9372-40ff-acf0-ce0e870bc55a",
   "metadata": {
    "tags": []
   },
   "source": [
    "## Make a general statement about what you observe in the line graph\n",
    "\n",
    "Overall the total number of accidents occuring starting from 1975 to 2020 is decling, The least number of accidents occured in 2010 and the highest occured in 1980"
   ]
  },
  {
   "cell_type": "markdown",
   "id": "c65b7ebf-b240-49f4-a512-0eeb32a18a20",
   "metadata": {},
   "source": [
    "### Task-2"
   ]
  },
  {
   "cell_type": "code",
   "execution_count": 12,
   "id": "97aeef32-7bb1-4115-95aa-037b9cc85065",
   "metadata": {},
   "outputs": [
    {
     "data": {
      "text/plain": [
       "0.3550015156913946"
      ]
     },
     "execution_count": 12,
     "metadata": {},
     "output_type": "execute_result"
    }
   ],
   "source": [
    "#From 1975-2020, what was the average (mean) rate of fatal accidents which involved an intoxicated driver? This would be over all states.\n",
    "\n",
    "data_df[\"DRUNK_DR\"].mean()"
   ]
  },
  {
   "cell_type": "code",
   "execution_count": 22,
   "id": "4705544e-46b8-43a8-85ba-bbda8473ae66",
   "metadata": {},
   "outputs": [
    {
     "data": {
      "text/plain": [
       "0     251401\n",
       "1     116584\n",
       "2       7505\n",
       "3        447\n",
       "4         93\n",
       "5         28\n",
       "6          5\n",
       "7          1\n",
       "12         1\n",
       "8          1\n",
       "Name: DRUNK_DR, dtype: int64"
      ]
     },
     "execution_count": 22,
     "metadata": {},
     "output_type": "execute_result"
    }
   ],
   "source": [
    "len(data_df[data_df[\"DRUNK_DR\"]>0])\n",
    "data_df[\"DRUNK_DR\"].value_counts()"
   ]
  },
  {
   "cell_type": "code",
   "execution_count": 14,
   "id": "d072a765-42ce-4e2c-b265-829d8985a4a5",
   "metadata": {},
   "outputs": [
    {
     "data": {
      "text/plain": [
       "STATE\n",
       "1     1\n",
       "2     1\n",
       "4     1\n",
       "5     1\n",
       "6     1\n",
       "8     1\n",
       "9     1\n",
       "10    1\n",
       "11    1\n",
       "12    1\n",
       "13    1\n",
       "15    0\n",
       "16    1\n",
       "17    1\n",
       "18    1\n",
       "19    1\n",
       "20    1\n",
       "21    1\n",
       "22    1\n",
       "23    1\n",
       "24    1\n",
       "25    1\n",
       "26    1\n",
       "27    0\n",
       "28    1\n",
       "29    1\n",
       "30    1\n",
       "31    1\n",
       "32    1\n",
       "33    1\n",
       "34    1\n",
       "35    1\n",
       "36    1\n",
       "37    1\n",
       "38    1\n",
       "39    1\n",
       "40    1\n",
       "41    1\n",
       "42    1\n",
       "44    1\n",
       "45    1\n",
       "46    1\n",
       "47    1\n",
       "48    1\n",
       "49    1\n",
       "50    1\n",
       "51    1\n",
       "53    1\n",
       "54    1\n",
       "55    1\n",
       "56    0\n",
       "Name: FATALS, dtype: int64"
      ]
     },
     "execution_count": 14,
     "metadata": {},
     "output_type": "execute_result"
    }
   ],
   "source": [
    "#In 1975 which 5 states had the highest rate of fatal accidents involving an intoxicated driver? Which 5 had the least? Please list the states and the rates in a table in the notebook.\n",
    "data_df_1975=data_df[(data_df[\"YEAR\"]==1975) & (data_df[\"DRUNK_DR\"]>0)]\n",
    "data_df.groupby(\"STATE\")[\"FATALS\"].max()\n",
    "data_df.groupby(\"STATE\")[\"FATALS\"].min()"
   ]
  },
  {
   "cell_type": "code",
   "execution_count": 24,
   "id": "dac34fb7-9d5c-4787-92ed-997439994011",
   "metadata": {},
   "outputs": [
    {
     "data": {
      "text/html": [
       "<div>\n",
       "<style scoped>\n",
       "    .dataframe tbody tr th:only-of-type {\n",
       "        vertical-align: middle;\n",
       "    }\n",
       "\n",
       "    .dataframe tbody tr th {\n",
       "        vertical-align: top;\n",
       "    }\n",
       "\n",
       "    .dataframe thead th {\n",
       "        text-align: right;\n",
       "    }\n",
       "</style>\n",
       "<table border=\"1\" class=\"dataframe\">\n",
       "  <thead>\n",
       "    <tr style=\"text-align: right;\">\n",
       "      <th></th>\n",
       "      <th>STATE</th>\n",
       "      <th>COUNTY</th>\n",
       "      <th>MONTH</th>\n",
       "      <th>DAY</th>\n",
       "      <th>YEAR</th>\n",
       "      <th>HOUR</th>\n",
       "      <th>MINUTE</th>\n",
       "      <th>VE_FORMS</th>\n",
       "      <th>PERSONS</th>\n",
       "      <th>VEHICLES</th>\n",
       "      <th>...</th>\n",
       "      <th>HOSP_HRNAME</th>\n",
       "      <th>HOSP_MNNAME</th>\n",
       "      <th>latitude</th>\n",
       "      <th>longitud</th>\n",
       "      <th>WEATHER1NAME</th>\n",
       "      <th>WEATHER2NAME</th>\n",
       "      <th>CF1NAME</th>\n",
       "      <th>CF2NAME</th>\n",
       "      <th>CF3NAME</th>\n",
       "      <th>TWAY_FLO</th>\n",
       "    </tr>\n",
       "  </thead>\n",
       "  <tbody>\n",
       "    <tr>\n",
       "      <th>39831</th>\n",
       "      <td>56</td>\n",
       "      <td>25</td>\n",
       "      <td>12</td>\n",
       "      <td>7</td>\n",
       "      <td>1990</td>\n",
       "      <td>1</td>\n",
       "      <td>45</td>\n",
       "      <td>1</td>\n",
       "      <td>1</td>\n",
       "      <td>NaN</td>\n",
       "      <td>...</td>\n",
       "      <td>NaN</td>\n",
       "      <td>NaN</td>\n",
       "      <td>NaN</td>\n",
       "      <td>NaN</td>\n",
       "      <td>NaN</td>\n",
       "      <td>NaN</td>\n",
       "      <td>NaN</td>\n",
       "      <td>NaN</td>\n",
       "      <td>NaN</td>\n",
       "      <td>NaN</td>\n",
       "    </tr>\n",
       "    <tr>\n",
       "      <th>39832</th>\n",
       "      <td>56</td>\n",
       "      <td>27</td>\n",
       "      <td>12</td>\n",
       "      <td>11</td>\n",
       "      <td>1990</td>\n",
       "      <td>6</td>\n",
       "      <td>25</td>\n",
       "      <td>1</td>\n",
       "      <td>2</td>\n",
       "      <td>NaN</td>\n",
       "      <td>...</td>\n",
       "      <td>NaN</td>\n",
       "      <td>NaN</td>\n",
       "      <td>NaN</td>\n",
       "      <td>NaN</td>\n",
       "      <td>NaN</td>\n",
       "      <td>NaN</td>\n",
       "      <td>NaN</td>\n",
       "      <td>NaN</td>\n",
       "      <td>NaN</td>\n",
       "      <td>NaN</td>\n",
       "    </tr>\n",
       "    <tr>\n",
       "      <th>39833</th>\n",
       "      <td>56</td>\n",
       "      <td>29</td>\n",
       "      <td>12</td>\n",
       "      <td>6</td>\n",
       "      <td>1990</td>\n",
       "      <td>1</td>\n",
       "      <td>26</td>\n",
       "      <td>1</td>\n",
       "      <td>1</td>\n",
       "      <td>NaN</td>\n",
       "      <td>...</td>\n",
       "      <td>NaN</td>\n",
       "      <td>NaN</td>\n",
       "      <td>NaN</td>\n",
       "      <td>NaN</td>\n",
       "      <td>NaN</td>\n",
       "      <td>NaN</td>\n",
       "      <td>NaN</td>\n",
       "      <td>NaN</td>\n",
       "      <td>NaN</td>\n",
       "      <td>NaN</td>\n",
       "    </tr>\n",
       "    <tr>\n",
       "      <th>39834</th>\n",
       "      <td>56</td>\n",
       "      <td>37</td>\n",
       "      <td>11</td>\n",
       "      <td>29</td>\n",
       "      <td>1990</td>\n",
       "      <td>13</td>\n",
       "      <td>10</td>\n",
       "      <td>2</td>\n",
       "      <td>4</td>\n",
       "      <td>NaN</td>\n",
       "      <td>...</td>\n",
       "      <td>NaN</td>\n",
       "      <td>NaN</td>\n",
       "      <td>NaN</td>\n",
       "      <td>NaN</td>\n",
       "      <td>NaN</td>\n",
       "      <td>NaN</td>\n",
       "      <td>NaN</td>\n",
       "      <td>NaN</td>\n",
       "      <td>NaN</td>\n",
       "      <td>NaN</td>\n",
       "    </tr>\n",
       "    <tr>\n",
       "      <th>39835</th>\n",
       "      <td>56</td>\n",
       "      <td>5</td>\n",
       "      <td>12</td>\n",
       "      <td>27</td>\n",
       "      <td>1990</td>\n",
       "      <td>5</td>\n",
       "      <td>50</td>\n",
       "      <td>2</td>\n",
       "      <td>5</td>\n",
       "      <td>NaN</td>\n",
       "      <td>...</td>\n",
       "      <td>NaN</td>\n",
       "      <td>NaN</td>\n",
       "      <td>NaN</td>\n",
       "      <td>NaN</td>\n",
       "      <td>NaN</td>\n",
       "      <td>NaN</td>\n",
       "      <td>NaN</td>\n",
       "      <td>NaN</td>\n",
       "      <td>NaN</td>\n",
       "      <td>NaN</td>\n",
       "    </tr>\n",
       "  </tbody>\n",
       "</table>\n",
       "<p>5 rows × 113 columns</p>\n",
       "</div>"
      ],
      "text/plain": [
       "       STATE  COUNTY  MONTH  DAY  YEAR  HOUR  MINUTE  VE_FORMS  PERSONS  \\\n",
       "39831     56      25     12    7  1990     1      45         1        1   \n",
       "39832     56      27     12   11  1990     6      25         1        2   \n",
       "39833     56      29     12    6  1990     1      26         1        1   \n",
       "39834     56      37     11   29  1990    13      10         2        4   \n",
       "39835     56       5     12   27  1990     5      50         2        5   \n",
       "\n",
       "       VEHICLES  ...  HOSP_HRNAME  HOSP_MNNAME  latitude  longitud  \\\n",
       "39831       NaN  ...          NaN          NaN       NaN       NaN   \n",
       "39832       NaN  ...          NaN          NaN       NaN       NaN   \n",
       "39833       NaN  ...          NaN          NaN       NaN       NaN   \n",
       "39834       NaN  ...          NaN          NaN       NaN       NaN   \n",
       "39835       NaN  ...          NaN          NaN       NaN       NaN   \n",
       "\n",
       "       WEATHER1NAME  WEATHER2NAME  CF1NAME  CF2NAME  CF3NAME  TWAY_FLO  \n",
       "39831           NaN           NaN      NaN      NaN      NaN       NaN  \n",
       "39832           NaN           NaN      NaN      NaN      NaN       NaN  \n",
       "39833           NaN           NaN      NaN      NaN      NaN       NaN  \n",
       "39834           NaN           NaN      NaN      NaN      NaN       NaN  \n",
       "39835           NaN           NaN      NaN      NaN      NaN       NaN  \n",
       "\n",
       "[5 rows x 113 columns]"
      ]
     },
     "execution_count": 24,
     "metadata": {},
     "output_type": "execute_result"
    }
   ],
   "source": [
    "# By 1990, how much had the top and bottom 5 changed (if at all)?\n",
    "data_df[data_df[\"YEAR\"]==1990].tail()"
   ]
  },
  {
   "cell_type": "code",
   "execution_count": 25,
   "id": "28eb7477-561d-4d57-8309-e10b7a2f4ed9",
   "metadata": {},
   "outputs": [
    {
     "name": "stderr",
     "output_type": "stream",
     "text": [
      "/tmp/ipykernel_231/2876617265.py:2: FutureWarning: Dropping of nuisance columns in DataFrame reductions (with 'numeric_only=None') is deprecated; in a future version this will raise TypeError.  Select only valid columns before calling the reduction.\n",
      "  data_df[data_df[\"YEAR\"]==2020].mean()\n"
     ]
    },
    {
     "data": {
      "text/plain": [
       "STATE             27.158292\n",
       "COUNTY            93.059978\n",
       "MONTH              6.898023\n",
       "DAY               15.705645\n",
       "YEAR            2020.000000\n",
       "                   ...     \n",
       "WEATHER2NAME            NaN\n",
       "CF1NAME                 NaN\n",
       "CF2NAME                 NaN\n",
       "CF3NAME                 NaN\n",
       "TWAY_FLO                NaN\n",
       "Length: 77, dtype: float64"
      ]
     },
     "execution_count": 25,
     "metadata": {},
     "output_type": "execute_result"
    }
   ],
   "source": [
    "# What was the average (mean) rate in 2020?\n",
    "data_df[data_df[\"YEAR\"]==2020].mean()"
   ]
  },
  {
   "cell_type": "code",
   "execution_count": 26,
   "id": "1e4ffdba-a511-419c-b022-1f84a016f97e",
   "metadata": {},
   "outputs": [
    {
     "data": {
      "text/plain": [
       "<AxesSubplot:xlabel='STATE'>"
      ]
     },
     "execution_count": 26,
     "metadata": {},
     "output_type": "execute_result"
    },
    {
     "data": {
      "image/png": "[encoded data removed]",
      "text/plain": [
       "<Figure size 432x288 with 1 Axes>"
      ]
     },
     "metadata": {
      "needs_background": "light"
     },
     "output_type": "display_data"
    }
   ],
   "source": [
    "#Plot a graph with the top and bottom five states, #showing just the rate over time (from 1975-2020). You can plot these in two graphs (top 5 and bottom 5 do not have to be in the same graph).\n",
    "\n",
    "data_df.groupby(\"STATE\").tail(5).plot(x=\"STATE\")"
   ]
  },
  {
   "cell_type": "markdown",
   "id": "49f0fb89-384a-4b9f-90e4-f1c5920815b2",
   "metadata": {},
   "source": [
    "### What is your interpretation of the trend – pretend you have no knowledge about the changes in law, changes in BAC thresholds or changes in public messaging about DUIs.\n",
    "\n"
   ]
  },
  {
   "cell_type": "markdown",
   "id": "8c2577d9-5188-4221-814d-5a5f56b6128f",
   "metadata": {},
   "source": [
    "### Task-3"
   ]
  },
  {
   "cell_type": "code",
   "execution_count": null,
   "id": "381b1da6-c389-49fc-9f14-c3a884bf41f9",
   "metadata": {},
   "outputs": [],
   "source": []
  },
  {
   "cell_type": "code",
   "execution_count": null,
   "id": "9478d2fd-bd1f-4e7d-b0b8-91e13710bcb0",
   "metadata": {},
   "outputs": [],
   "source": []
  }
 ],
 "metadata": {
  "kernelspec": {
   "display_name": "Python [conda env:root] *",
   "language": "python",
   "name": "conda-root-py"
  },
  "language_info": {
   "codemirror_mode": {
    "name": "ipython",
    "version": 3
   },
   "file_extension": ".py",
   "mimetype": "text/x-python",
   "name": "python",
   "nbconvert_exporter": "python",
   "pygments_lexer": "ipython3",
   "version": "3.10.5"
  }
 },
 "nbformat": 4,
 "nbformat_minor": 5
}
